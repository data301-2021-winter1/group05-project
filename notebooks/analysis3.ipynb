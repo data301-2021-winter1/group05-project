{
 "cells": [
  {
   "cell_type": "markdown",
   "source": [
    "# Alyssa Hughes"
   ],
   "metadata": {}
  },
  {
   "cell_type": "markdown",
   "source": [
    "## Research question/interests\r\n",
    "\r\n",
    "My Interests are surrounding the growth of tourism in BC, as I live in Kelowna which is a tourist hotspot in BC, and would like to see where growth trends are heading. I am Curious where are the majority of BCs tourists coming from: domestically or out-of-province? As well as, what is BCs overall tourism growth rate from 2014-2017 compared to Canada’s?
   ],
   "metadata": {}
  }
 ],
 "metadata": {
  "orig_nbformat": 4,
  "language_info": {
   "name": "plaintext"
  }
 },
 "nbformat": 4,
 "nbformat_minor": 2
}
