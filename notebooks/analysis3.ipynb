{
 "cells": [
  {
   "cell_type": "markdown",
   "metadata": {},
   "source": [
    "# Alyssa Hughes"
   ]
  },
  {
   "cell_type": "markdown",
   "metadata": {},
   "source": [
    "## Research question/interests"
   ]
  },
  {
   "cell_type": "markdown",
   "metadata": {},
   "source": [
    " As I live in a province with a lot of tourism surrounding cities like Kelowna and Vancouver I want to explore different growth rates within tourism.\n",
    "Where are the majority of BCs tourists coming from: domestically or out-of-province?\n",
    "What are all the provinces overall tourism spending compared to each other and what are their growth rates from 2014-2017?"
   ]
  },
  {
   "cell_type": "code",
   "execution_count": 2,
   "metadata": {},
   "outputs": [
    {
     "data": {
      "text/html": [
       "<div>\n",
       "<style scoped>\n",
       "    .dataframe tbody tr th:only-of-type {\n",
       "        vertical-align: middle;\n",
       "    }\n",
       "\n",
       "    .dataframe tbody tr th {\n",
       "        vertical-align: top;\n",
       "    }\n",
       "\n",
       "    .dataframe thead th {\n",
       "        text-align: right;\n",
       "    }\n",
       "</style>\n",
       "<table border=\"1\" class=\"dataframe\">\n",
       "  <thead>\n",
       "    <tr style=\"text-align: right;\">\n",
       "      <th></th>\n",
       "      <th>REF_DATE</th>\n",
       "      <th>GEO</th>\n",
       "      <th>DGUID</th>\n",
       "      <th>Indicators</th>\n",
       "      <th>Products</th>\n",
       "      <th>UOM</th>\n",
       "      <th>UOM_ID</th>\n",
       "      <th>SCALAR_FACTOR</th>\n",
       "      <th>SCALAR_ID</th>\n",
       "      <th>VECTOR</th>\n",
       "      <th>COORDINATE</th>\n",
       "      <th>VALUE</th>\n",
       "      <th>STATUS</th>\n",
       "      <th>SYMBOL</th>\n",
       "      <th>TERMINATED</th>\n",
       "      <th>DECIMALS</th>\n",
       "    </tr>\n",
       "  </thead>\n",
       "  <tbody>\n",
       "    <tr>\n",
       "      <th>0</th>\n",
       "      <td>2014</td>\n",
       "      <td>Canada</td>\n",
       "      <td>2016A11124</td>\n",
       "      <td>Total domestic supply</td>\n",
       "      <td>Total tourism expenditures</td>\n",
       "      <td>Dollars</td>\n",
       "      <td>81</td>\n",
       "      <td>millions</td>\n",
       "      <td>6</td>\n",
       "      <td>v1001801179</td>\n",
       "      <td>1.1.1</td>\n",
       "      <td>3654954.0</td>\n",
       "      <td>NaN</td>\n",
       "      <td>NaN</td>\n",
       "      <td>NaN</td>\n",
       "      <td>1</td>\n",
       "    </tr>\n",
       "    <tr>\n",
       "      <th>1</th>\n",
       "      <td>2014</td>\n",
       "      <td>Canada</td>\n",
       "      <td>2016A11124</td>\n",
       "      <td>Total domestic supply</td>\n",
       "      <td>Total tourism products</td>\n",
       "      <td>Dollars</td>\n",
       "      <td>81</td>\n",
       "      <td>millions</td>\n",
       "      <td>6</td>\n",
       "      <td>v1001801180</td>\n",
       "      <td>1.1.2</td>\n",
       "      <td>212829.4</td>\n",
       "      <td>NaN</td>\n",
       "      <td>NaN</td>\n",
       "      <td>NaN</td>\n",
       "      <td>1</td>\n",
       "    </tr>\n",
       "    <tr>\n",
       "      <th>2</th>\n",
       "      <td>2014</td>\n",
       "      <td>Canada</td>\n",
       "      <td>2016A11124</td>\n",
       "      <td>Total domestic supply</td>\n",
       "      <td>Total transportation</td>\n",
       "      <td>Dollars</td>\n",
       "      <td>81</td>\n",
       "      <td>millions</td>\n",
       "      <td>6</td>\n",
       "      <td>v1001801181</td>\n",
       "      <td>1.1.3</td>\n",
       "      <td>98108.0</td>\n",
       "      <td>NaN</td>\n",
       "      <td>NaN</td>\n",
       "      <td>NaN</td>\n",
       "      <td>1</td>\n",
       "    </tr>\n",
       "    <tr>\n",
       "      <th>3</th>\n",
       "      <td>2014</td>\n",
       "      <td>Canada</td>\n",
       "      <td>2016A11124</td>\n",
       "      <td>Total domestic supply</td>\n",
       "      <td>Passenger air transport</td>\n",
       "      <td>Dollars</td>\n",
       "      <td>81</td>\n",
       "      <td>millions</td>\n",
       "      <td>6</td>\n",
       "      <td>v1001801182</td>\n",
       "      <td>1.1.4</td>\n",
       "      <td>19961.5</td>\n",
       "      <td>NaN</td>\n",
       "      <td>NaN</td>\n",
       "      <td>NaN</td>\n",
       "      <td>1</td>\n",
       "    </tr>\n",
       "    <tr>\n",
       "      <th>4</th>\n",
       "      <td>2014</td>\n",
       "      <td>Canada</td>\n",
       "      <td>2016A11124</td>\n",
       "      <td>Total domestic supply</td>\n",
       "      <td>Passenger rail transport</td>\n",
       "      <td>Dollars</td>\n",
       "      <td>81</td>\n",
       "      <td>millions</td>\n",
       "      <td>6</td>\n",
       "      <td>v1001801183</td>\n",
       "      <td>1.1.5</td>\n",
       "      <td>309.6</td>\n",
       "      <td>NaN</td>\n",
       "      <td>NaN</td>\n",
       "      <td>NaN</td>\n",
       "      <td>1</td>\n",
       "    </tr>\n",
       "  </tbody>\n",
       "</table>\n",
       "</div>"
      ],
      "text/plain": [
       "   REF_DATE     GEO       DGUID             Indicators  \\\n",
       "0      2014  Canada  2016A11124  Total domestic supply   \n",
       "1      2014  Canada  2016A11124  Total domestic supply   \n",
       "2      2014  Canada  2016A11124  Total domestic supply   \n",
       "3      2014  Canada  2016A11124  Total domestic supply   \n",
       "4      2014  Canada  2016A11124  Total domestic supply   \n",
       "\n",
       "                     Products      UOM  UOM_ID SCALAR_FACTOR  SCALAR_ID  \\\n",
       "0  Total tourism expenditures  Dollars      81      millions          6   \n",
       "1      Total tourism products  Dollars      81      millions          6   \n",
       "2        Total transportation  Dollars      81      millions          6   \n",
       "3     Passenger air transport  Dollars      81      millions          6   \n",
       "4    Passenger rail transport  Dollars      81      millions          6   \n",
       "\n",
       "        VECTOR COORDINATE      VALUE STATUS  SYMBOL  TERMINATED  DECIMALS  \n",
       "0  v1001801179      1.1.1  3654954.0    NaN     NaN         NaN         1  \n",
       "1  v1001801180      1.1.2   212829.4    NaN     NaN         NaN         1  \n",
       "2  v1001801181      1.1.3    98108.0    NaN     NaN         NaN         1  \n",
       "3  v1001801182      1.1.4    19961.5    NaN     NaN         NaN         1  \n",
       "4  v1001801183      1.1.5      309.6    NaN     NaN         NaN         1  "
      ]
     },
     "execution_count": 2,
     "metadata": {},
     "output_type": "execute_result"
    }
   ],
   "source": [
    "import pandas as pd \n",
    "df = pd.read_csv(\"../data/raw/tourism.csv\")\n",
    "df.head()"
   ]
  },
  {
   "cell_type": "markdown",
   "metadata": {},
   "source": [
    "## Milestone 3 - Data Analysis"
   ]
  },
  {
   "cell_type": "markdown",
   "metadata": {},
   "source": [
    "### TASK 1 - Exploratory Data Analysis"
   ]
  },
  {
   "cell_type": "code",
   "execution_count": 3,
   "metadata": {},
   "outputs": [],
   "source": [
    "#importing libraries\n",
    "import numpy as np\n",
    "import pandas as pd\n",
    "import seaborn as sns\n",
    "import matplotlib.pyplot as plt"
   ]
  },
  {
   "cell_type": "code",
   "execution_count": 4,
   "metadata": {
    "tags": []
   },
   "outputs": [
    {
     "data": {
      "text/html": [
       "<div>\n",
       "<style scoped>\n",
       "    .dataframe tbody tr th:only-of-type {\n",
       "        vertical-align: middle;\n",
       "    }\n",
       "\n",
       "    .dataframe tbody tr th {\n",
       "        vertical-align: top;\n",
       "    }\n",
       "\n",
       "    .dataframe thead th {\n",
       "        text-align: right;\n",
       "    }\n",
       "</style>\n",
       "<table border=\"1\" class=\"dataframe\">\n",
       "  <thead>\n",
       "    <tr style=\"text-align: right;\">\n",
       "      <th></th>\n",
       "      <th>count</th>\n",
       "      <th>mean</th>\n",
       "      <th>std</th>\n",
       "      <th>min</th>\n",
       "      <th>25%</th>\n",
       "      <th>50%</th>\n",
       "      <th>75%</th>\n",
       "      <th>max</th>\n",
       "    </tr>\n",
       "  </thead>\n",
       "  <tbody>\n",
       "    <tr>\n",
       "      <th>REF_DATE</th>\n",
       "      <td>8960.0</td>\n",
       "      <td>2015.500000</td>\n",
       "      <td>1.500084</td>\n",
       "      <td>2014.0</td>\n",
       "      <td>2014.0</td>\n",
       "      <td>2015.5</td>\n",
       "      <td>2017.0</td>\n",
       "      <td>2017.0</td>\n",
       "    </tr>\n",
       "    <tr>\n",
       "      <th>UOM_ID</th>\n",
       "      <td>8960.0</td>\n",
       "      <td>97.100000</td>\n",
       "      <td>48.302696</td>\n",
       "      <td>81.0</td>\n",
       "      <td>81.0</td>\n",
       "      <td>81.0</td>\n",
       "      <td>81.0</td>\n",
       "      <td>242.0</td>\n",
       "    </tr>\n",
       "    <tr>\n",
       "      <th>SCALAR_ID</th>\n",
       "      <td>8960.0</td>\n",
       "      <td>6.000000</td>\n",
       "      <td>0.000000</td>\n",
       "      <td>6.0</td>\n",
       "      <td>6.0</td>\n",
       "      <td>6.0</td>\n",
       "      <td>6.0</td>\n",
       "      <td>6.0</td>\n",
       "    </tr>\n",
       "    <tr>\n",
       "      <th>VALUE</th>\n",
       "      <td>7521.0</td>\n",
       "      <td>6809.351509</td>\n",
       "      <td>112809.280902</td>\n",
       "      <td>0.0</td>\n",
       "      <td>5.6</td>\n",
       "      <td>37.9</td>\n",
       "      <td>239.6</td>\n",
       "      <td>3910989.7</td>\n",
       "    </tr>\n",
       "    <tr>\n",
       "      <th>SYMBOL</th>\n",
       "      <td>0.0</td>\n",
       "      <td>NaN</td>\n",
       "      <td>NaN</td>\n",
       "      <td>NaN</td>\n",
       "      <td>NaN</td>\n",
       "      <td>NaN</td>\n",
       "      <td>NaN</td>\n",
       "      <td>NaN</td>\n",
       "    </tr>\n",
       "    <tr>\n",
       "      <th>TERMINATED</th>\n",
       "      <td>0.0</td>\n",
       "      <td>NaN</td>\n",
       "      <td>NaN</td>\n",
       "      <td>NaN</td>\n",
       "      <td>NaN</td>\n",
       "      <td>NaN</td>\n",
       "      <td>NaN</td>\n",
       "      <td>NaN</td>\n",
       "    </tr>\n",
       "    <tr>\n",
       "      <th>DECIMALS</th>\n",
       "      <td>8960.0</td>\n",
       "      <td>1.000000</td>\n",
       "      <td>0.000000</td>\n",
       "      <td>1.0</td>\n",
       "      <td>1.0</td>\n",
       "      <td>1.0</td>\n",
       "      <td>1.0</td>\n",
       "      <td>1.0</td>\n",
       "    </tr>\n",
       "  </tbody>\n",
       "</table>\n",
       "</div>"
      ],
      "text/plain": [
       "             count         mean            std     min     25%     50%  \\\n",
       "REF_DATE    8960.0  2015.500000       1.500084  2014.0  2014.0  2015.5   \n",
       "UOM_ID      8960.0    97.100000      48.302696    81.0    81.0    81.0   \n",
       "SCALAR_ID   8960.0     6.000000       0.000000     6.0     6.0     6.0   \n",
       "VALUE       7521.0  6809.351509  112809.280902     0.0     5.6    37.9   \n",
       "SYMBOL         0.0          NaN            NaN     NaN     NaN     NaN   \n",
       "TERMINATED     0.0          NaN            NaN     NaN     NaN     NaN   \n",
       "DECIMALS    8960.0     1.000000       0.000000     1.0     1.0     1.0   \n",
       "\n",
       "               75%        max  \n",
       "REF_DATE    2017.0     2017.0  \n",
       "UOM_ID        81.0      242.0  \n",
       "SCALAR_ID      6.0        6.0  \n",
       "VALUE        239.6  3910989.7  \n",
       "SYMBOL         NaN        NaN  \n",
       "TERMINATED     NaN        NaN  \n",
       "DECIMALS       1.0        1.0  "
      ]
     },
     "execution_count": 4,
     "metadata": {},
     "output_type": "execute_result"
    }
   ],
   "source": [
    "#summary stats table for df\n",
    "df.describe().T"
   ]
  },
  {
   "cell_type": "code",
   "execution_count": 5,
   "metadata": {},
   "outputs": [
    {
     "data": {
      "text/plain": [
       "(8960, 16)"
      ]
     },
     "execution_count": 5,
     "metadata": {},
     "output_type": "execute_result"
    }
   ],
   "source": [
    "#exploring the number of rows and columns - I will need to get rid of many rows for my research question\n",
    "df.shape"
   ]
  },
  {
   "cell_type": "code",
   "execution_count": 6,
   "metadata": {},
   "outputs": [
    {
     "data": {
      "text/html": [
       "<div>\n",
       "<style scoped>\n",
       "    .dataframe tbody tr th:only-of-type {\n",
       "        vertical-align: middle;\n",
       "    }\n",
       "\n",
       "    .dataframe tbody tr th {\n",
       "        vertical-align: top;\n",
       "    }\n",
       "\n",
       "    .dataframe thead th {\n",
       "        text-align: right;\n",
       "    }\n",
       "</style>\n",
       "<table border=\"1\" class=\"dataframe\">\n",
       "  <thead>\n",
       "    <tr style=\"text-align: right;\">\n",
       "      <th></th>\n",
       "      <th>REF_DATE</th>\n",
       "      <th>GEO</th>\n",
       "      <th>DGUID</th>\n",
       "      <th>Indicators</th>\n",
       "      <th>Products</th>\n",
       "      <th>UOM</th>\n",
       "      <th>UOM_ID</th>\n",
       "      <th>SCALAR_FACTOR</th>\n",
       "      <th>SCALAR_ID</th>\n",
       "      <th>VECTOR</th>\n",
       "      <th>COORDINATE</th>\n",
       "      <th>VALUE</th>\n",
       "      <th>STATUS</th>\n",
       "      <th>SYMBOL</th>\n",
       "      <th>TERMINATED</th>\n",
       "      <th>DECIMALS</th>\n",
       "    </tr>\n",
       "  </thead>\n",
       "  <tbody>\n",
       "    <tr>\n",
       "      <th>0</th>\n",
       "      <td>2014</td>\n",
       "      <td>Canada</td>\n",
       "      <td>2016A11124</td>\n",
       "      <td>Total domestic supply</td>\n",
       "      <td>Total tourism expenditures</td>\n",
       "      <td>Dollars</td>\n",
       "      <td>81</td>\n",
       "      <td>millions</td>\n",
       "      <td>6</td>\n",
       "      <td>v1001801179</td>\n",
       "      <td>1.1.1</td>\n",
       "      <td>3654954.0</td>\n",
       "      <td>NaN</td>\n",
       "      <td>NaN</td>\n",
       "      <td>NaN</td>\n",
       "      <td>1</td>\n",
       "    </tr>\n",
       "    <tr>\n",
       "      <th>1</th>\n",
       "      <td>2014</td>\n",
       "      <td>Canada</td>\n",
       "      <td>2016A11124</td>\n",
       "      <td>Total domestic supply</td>\n",
       "      <td>Total tourism products</td>\n",
       "      <td>Dollars</td>\n",
       "      <td>81</td>\n",
       "      <td>millions</td>\n",
       "      <td>6</td>\n",
       "      <td>v1001801180</td>\n",
       "      <td>1.1.2</td>\n",
       "      <td>212829.4</td>\n",
       "      <td>NaN</td>\n",
       "      <td>NaN</td>\n",
       "      <td>NaN</td>\n",
       "      <td>1</td>\n",
       "    </tr>\n",
       "    <tr>\n",
       "      <th>2</th>\n",
       "      <td>2014</td>\n",
       "      <td>Canada</td>\n",
       "      <td>2016A11124</td>\n",
       "      <td>Total domestic supply</td>\n",
       "      <td>Total transportation</td>\n",
       "      <td>Dollars</td>\n",
       "      <td>81</td>\n",
       "      <td>millions</td>\n",
       "      <td>6</td>\n",
       "      <td>v1001801181</td>\n",
       "      <td>1.1.3</td>\n",
       "      <td>98108.0</td>\n",
       "      <td>NaN</td>\n",
       "      <td>NaN</td>\n",
       "      <td>NaN</td>\n",
       "      <td>1</td>\n",
       "    </tr>\n",
       "    <tr>\n",
       "      <th>3</th>\n",
       "      <td>2014</td>\n",
       "      <td>Canada</td>\n",
       "      <td>2016A11124</td>\n",
       "      <td>Total domestic supply</td>\n",
       "      <td>Passenger air transport</td>\n",
       "      <td>Dollars</td>\n",
       "      <td>81</td>\n",
       "      <td>millions</td>\n",
       "      <td>6</td>\n",
       "      <td>v1001801182</td>\n",
       "      <td>1.1.4</td>\n",
       "      <td>19961.5</td>\n",
       "      <td>NaN</td>\n",
       "      <td>NaN</td>\n",
       "      <td>NaN</td>\n",
       "      <td>1</td>\n",
       "    </tr>\n",
       "    <tr>\n",
       "      <th>4</th>\n",
       "      <td>2014</td>\n",
       "      <td>Canada</td>\n",
       "      <td>2016A11124</td>\n",
       "      <td>Total domestic supply</td>\n",
       "      <td>Passenger rail transport</td>\n",
       "      <td>Dollars</td>\n",
       "      <td>81</td>\n",
       "      <td>millions</td>\n",
       "      <td>6</td>\n",
       "      <td>v1001801183</td>\n",
       "      <td>1.1.5</td>\n",
       "      <td>309.6</td>\n",
       "      <td>NaN</td>\n",
       "      <td>NaN</td>\n",
       "      <td>NaN</td>\n",
       "      <td>1</td>\n",
       "    </tr>\n",
       "  </tbody>\n",
       "</table>\n",
       "</div>"
      ],
      "text/plain": [
       "   REF_DATE     GEO       DGUID             Indicators  \\\n",
       "0      2014  Canada  2016A11124  Total domestic supply   \n",
       "1      2014  Canada  2016A11124  Total domestic supply   \n",
       "2      2014  Canada  2016A11124  Total domestic supply   \n",
       "3      2014  Canada  2016A11124  Total domestic supply   \n",
       "4      2014  Canada  2016A11124  Total domestic supply   \n",
       "\n",
       "                     Products      UOM  UOM_ID SCALAR_FACTOR  SCALAR_ID  \\\n",
       "0  Total tourism expenditures  Dollars      81      millions          6   \n",
       "1      Total tourism products  Dollars      81      millions          6   \n",
       "2        Total transportation  Dollars      81      millions          6   \n",
       "3     Passenger air transport  Dollars      81      millions          6   \n",
       "4    Passenger rail transport  Dollars      81      millions          6   \n",
       "\n",
       "        VECTOR COORDINATE      VALUE STATUS  SYMBOL  TERMINATED  DECIMALS  \n",
       "0  v1001801179      1.1.1  3654954.0    NaN     NaN         NaN         1  \n",
       "1  v1001801180      1.1.2   212829.4    NaN     NaN         NaN         1  \n",
       "2  v1001801181      1.1.3    98108.0    NaN     NaN         NaN         1  \n",
       "3  v1001801182      1.1.4    19961.5    NaN     NaN         NaN         1  \n",
       "4  v1001801183      1.1.5      309.6    NaN     NaN         NaN         1  "
      ]
     },
     "execution_count": 6,
     "metadata": {},
     "output_type": "execute_result"
    }
   ],
   "source": [
    "#viewing first five rows/ I will also want to change heading names them easier to understand\n",
    "df.head()"
   ]
  },
  {
   "cell_type": "code",
   "execution_count": 7,
   "metadata": {},
   "outputs": [
    {
     "name": "stdout",
     "output_type": "stream",
     "text": [
      "Index(['REF_DATE', 'GEO', 'DGUID', 'Indicators', 'Products', 'UOM', 'UOM_ID',\n",
      "       'SCALAR_FACTOR', 'SCALAR_ID', 'VECTOR', 'COORDINATE', 'VALUE', 'STATUS',\n",
      "       'SYMBOL', 'TERMINATED', 'DECIMALS'],\n",
      "      dtype='object')\n"
     ]
    }
   ],
   "source": [
    "#viewing names of all the columns and realising there are many columns to get rid of in cleaning\n",
    "print(df.columns)"
   ]
  },
  {
   "cell_type": "code",
   "execution_count": 8,
   "metadata": {},
   "outputs": [
    {
     "name": "stdout",
     "output_type": "stream",
     "text": [
      "<class 'pandas.core.frame.DataFrame'>\n",
      "RangeIndex: 8960 entries, 0 to 8959\n",
      "Data columns (total 16 columns):\n",
      " #   Column         Non-Null Count  Dtype  \n",
      "---  ------         --------------  -----  \n",
      " 0   REF_DATE       8960 non-null   int64  \n",
      " 1   GEO            8960 non-null   object \n",
      " 2   DGUID          8960 non-null   object \n",
      " 3   Indicators     8960 non-null   object \n",
      " 4   Products       8960 non-null   object \n",
      " 5   UOM            8960 non-null   object \n",
      " 6   UOM_ID         8960 non-null   int64  \n",
      " 7   SCALAR_FACTOR  8960 non-null   object \n",
      " 8   SCALAR_ID      8960 non-null   int64  \n",
      " 9   VECTOR         8960 non-null   object \n",
      " 10  COORDINATE     8960 non-null   object \n",
      " 11  VALUE          7521 non-null   float64\n",
      " 12  STATUS         1439 non-null   object \n",
      " 13  SYMBOL         0 non-null      float64\n",
      " 14  TERMINATED     0 non-null      float64\n",
      " 15  DECIMALS       8960 non-null   int64  \n",
      "dtypes: float64(3), int64(4), object(9)\n",
      "memory usage: 1.1+ MB\n"
     ]
    }
   ],
   "source": [
    "#This function helps me determine that of my 16 rows, 3= floats(decimal integer) int(whole numbers) = 4, and object rows (usually word variables) = 9\n",
    "#It also shows me columns 13/14 have all null values and can deleted. I can also try to remove missing some missing values in row 11/12\n",
    "df.info()"
   ]
  },
  {
   "cell_type": "code",
   "execution_count": 9,
   "metadata": {},
   "outputs": [
    {
     "name": "stdout",
     "output_type": "stream",
     "text": [
      "No duplicated entries found\n"
     ]
    }
   ],
   "source": [
    "#Checking if there are any duplicates of Data to be cleaned\n",
    "if len(df[df.duplicated()]) > 0:\n",
    "    print(\"No. of duplicated entries: \", len(df[df.duplicated()]))\n",
    "    print(df[df.duplicated(keep=False)].sort_values(by=list(df.columns)).head())\n",
    "else:\n",
    "    print(\"No duplicated entries found\")"
   ]
  },
  {
   "cell_type": "code",
   "execution_count": 10,
   "metadata": {},
   "outputs": [
    {
     "data": {
      "text/plain": [
       "Total tourism expenditures                                     280\n",
       "Total tourism products                                         280\n",
       "Urban transit and parking                                      280\n",
       "Beer, wine, and liquor from stores                             280\n",
       "Groceries                                                      280\n",
       "Total other products                                           280\n",
       "Pre-trip expenses                                              280\n",
       "Convention fees                                                280\n",
       "Travel services                                                280\n",
       "Recreation and entertainment                                   280\n",
       "Total other tourism products                                   280\n",
       "Meals and alcoholic beverages from other tourism industries    280\n",
       "Alcoholic beverages from restaurants                           280\n",
       "Alcoholic beverages from accommodation                         280\n",
       "Meals from restaurants                                         280\n",
       "Meals from accommodation                                       280\n",
       "Total food and beverage services                               280\n",
       "Other accommodation                                            280\n",
       "Camping                                                        280\n",
       "Motels                                                         280\n",
       "Hotels                                                         280\n",
       "Total accommodation                                            280\n",
       "Vehicle fuel                                                   280\n",
       "Vehicle repairs and parts                                      280\n",
       "Vehicle rental                                                 280\n",
       "Taxis                                                          280\n",
       "Interurban, charter and tour bus transport                     280\n",
       "Passenger water transport                                      280\n",
       "Passenger rail transport                                       280\n",
       "Passenger air transport                                        280\n",
       "Total transportation                                           280\n",
       "Miscellaneous products                                         280\n",
       "Name: Products, dtype: int64"
      ]
     },
     "execution_count": 10,
     "metadata": {},
     "output_type": "execute_result"
    }
   ],
   "source": [
    "\n",
    "#get counts of each variable value - From here I have list of the possible expenditures in the Products Column\n",
    "#My research question only focuses on Total tourism expenditures and products rows\n",
    "df.Products.value_counts()"
   ]
  },
  {
   "cell_type": "code",
   "execution_count": 11,
   "metadata": {},
   "outputs": [
    {
     "data": {
      "text/plain": [
       "Total domestic supply               896\n",
       "Total demand                        896\n",
       "Domestic demand                     896\n",
       "Exports                             896\n",
       "Interprovincial demand (exports)    896\n",
       "International demand (exports)      896\n",
       "Imports                             896\n",
       "Interprovincial imports             896\n",
       "International imports               896\n",
       "Tourism product ratio               896\n",
       "Name: Indicators, dtype: int64"
      ]
     },
     "execution_count": 11,
     "metadata": {},
     "output_type": "execute_result"
    }
   ],
   "source": [
    "#same as above but I will only be focusing on Domestic vs Interprovincial demand rows\n",
    "df.Indicators.value_counts()"
   ]
  },
  {
   "cell_type": "markdown",
   "metadata": {},
   "source": [
    "### Visuals made after TASK 2"
   ]
  },
  {
   "cell_type": "code",
   "execution_count": 49,
   "metadata": {},
   "outputs": [
    {
     "data": {
      "text/html": [
       "<div>\n",
       "<style scoped>\n",
       "    .dataframe tbody tr th:only-of-type {\n",
       "        vertical-align: middle;\n",
       "    }\n",
       "\n",
       "    .dataframe tbody tr th {\n",
       "        vertical-align: top;\n",
       "    }\n",
       "\n",
       "    .dataframe thead th {\n",
       "        text-align: right;\n",
       "    }\n",
       "</style>\n",
       "<table border=\"1\" class=\"dataframe\">\n",
       "  <thead>\n",
       "    <tr style=\"text-align: right;\">\n",
       "      <th></th>\n",
       "      <th>Year</th>\n",
       "      <th>Location</th>\n",
       "      <th>Indicators</th>\n",
       "      <th>Products</th>\n",
       "      <th>Measure</th>\n",
       "      <th>Scale</th>\n",
       "      <th>Value</th>\n",
       "    </tr>\n",
       "  </thead>\n",
       "  <tbody>\n",
       "    <tr>\n",
       "      <th>352</th>\n",
       "      <td>2014</td>\n",
       "      <td>Newfoundland and Labrador</td>\n",
       "      <td>Total demand</td>\n",
       "      <td>Total tourism expenditures</td>\n",
       "      <td>Dollars</td>\n",
       "      <td>millions</td>\n",
       "      <td>1082.4</td>\n",
       "    </tr>\n",
       "    <tr>\n",
       "      <th>353</th>\n",
       "      <td>2014</td>\n",
       "      <td>Newfoundland and Labrador</td>\n",
       "      <td>Total demand</td>\n",
       "      <td>Total tourism products</td>\n",
       "      <td>Dollars</td>\n",
       "      <td>millions</td>\n",
       "      <td>891.1</td>\n",
       "    </tr>\n",
       "    <tr>\n",
       "      <th>354</th>\n",
       "      <td>2014</td>\n",
       "      <td>Newfoundland and Labrador</td>\n",
       "      <td>Total demand</td>\n",
       "      <td>Total transportation</td>\n",
       "      <td>Dollars</td>\n",
       "      <td>millions</td>\n",
       "      <td>447.9</td>\n",
       "    </tr>\n",
       "    <tr>\n",
       "      <th>355</th>\n",
       "      <td>2014</td>\n",
       "      <td>Newfoundland and Labrador</td>\n",
       "      <td>Total demand</td>\n",
       "      <td>Passenger air transport</td>\n",
       "      <td>Dollars</td>\n",
       "      <td>millions</td>\n",
       "      <td>224.3</td>\n",
       "    </tr>\n",
       "    <tr>\n",
       "      <th>356</th>\n",
       "      <td>2014</td>\n",
       "      <td>Newfoundland and Labrador</td>\n",
       "      <td>Total demand</td>\n",
       "      <td>Passenger rail transport</td>\n",
       "      <td>Dollars</td>\n",
       "      <td>millions</td>\n",
       "      <td>0.1</td>\n",
       "    </tr>\n",
       "  </tbody>\n",
       "</table>\n",
       "</div>"
      ],
      "text/plain": [
       "     Year                   Location    Indicators  \\\n",
       "352  2014  Newfoundland and Labrador  Total demand   \n",
       "353  2014  Newfoundland and Labrador  Total demand   \n",
       "354  2014  Newfoundland and Labrador  Total demand   \n",
       "355  2014  Newfoundland and Labrador  Total demand   \n",
       "356  2014  Newfoundland and Labrador  Total demand   \n",
       "\n",
       "                       Products  Measure     Scale   Value  \n",
       "352  Total tourism expenditures  Dollars  millions  1082.4  \n",
       "353      Total tourism products  Dollars  millions   891.1  \n",
       "354        Total transportation  Dollars  millions   447.9  \n",
       "355     Passenger air transport  Dollars  millions   224.3  \n",
       "356    Passenger rail transport  Dollars  millions     0.1  "
      ]
     },
     "execution_count": 49,
     "metadata": {},
     "output_type": "execute_result"
    }
   ],
   "source": [
    "#Here I am just plotting only total demand so when i set the max bar it will give us back max total demand \n",
    "#instead of total tourism supply and demand. I also am excluding Canada from the provinces so we can see the values of the provinces.\n",
    "df_bar = df2[df2['Indicators'].isin(['Total demand'])]\n",
    "df_bar1 = df_bar[df_bar['Location'].isin(['British Columbia','Alberta','Manitoba','Saskatchewan','Quebec','Ontario','Newfoundland and Labrador','Yukon','Northwest Territories','Nunavut','Nova Scotia','Newbrunswick','Prince Edward Island'])]\n",
    "df_bar1.head()"
   ]
  },
  {
   "cell_type": "code",
   "execution_count": 79,
   "metadata": {},
   "outputs": [
    {
     "data": {
      "text/plain": [
       "[Text(0.5, 1.0, 'Total Demand by Province'),\n",
       " Text(0.5, 0, 'Tourism Demand(Millions)'),\n",
       " Text(0, 0.5, '')]"
      ]
     },
     "execution_count": 79,
     "metadata": {},
     "output_type": "execute_result"
    },
    {
     "data": {
      "image/png": "[encoded data removed]",
      "text/plain": [
       "<Figure size 1080x648 with 1 Axes>"
      ]
     },
     "metadata": {
      "needs_background": "light"
     },
     "output_type": "display_data"
    }
   ],
   "source": [
    "# I am ordering the provinces by greatest demand\n",
    "\n",
    "#Here we can see the mean overall tourism value for each province, and see that at first glance Ontario has the most followed by Quebec, Alberta then BC\n",
    "asc = ['Ontario','British Columbia','Quebec','Alberta','Manitoba','Nova Scotia','Saskatchewan','Newfoundland and Labrador','Prince Edward Island','Yukon','Northwest Territories','Nunavut']\n",
    "plt.figure(figsize = (15,9))\n",
    "sns.barplot(x='Value',y='Location',data=df_bar1 ,estimator=np.max,order = asc).set(title = 'Total Demand by Province',xlabel='Tourism Demand(Millions)', ylabel='')"
   ]
  },
  {
   "cell_type": "code",
   "execution_count": 90,
   "metadata": {},
   "outputs": [
    {
     "data": {
      "text/plain": [
       "[Text(0.5, 1.0, 'Tourism Demand Growth 2014-17 by Province'),\n",
       " Text(0.5, 0, 'Tourism Demand(Millions)'),\n",
       " Text(0, 0.5, '')]"
      ]
     },
     "execution_count": 90,
     "metadata": {},
     "output_type": "execute_result"
    },
    {
     "data": {
      "image/png": "[encoded data removed]",
      "text/plain": [
       "<Figure size 1152x720 with 1 Axes>"
      ]
     },
     "metadata": {
      "needs_background": "light"
     },
     "output_type": "display_data"
    }
   ],
   "source": [
    "#This shows us our total tourism spending (demand) value (in millions) in all provinces comparing 2014 with 2017 to see the growth rates in comparison\n",
    "plt.figure(figsize = (16,10))\n",
    "sns.barplot(x='Value',y='Location',hue='Year',data=df_bar1,estimator=np.max, palette = 'Paired').set(title= 'Tourism Demand Growth 2014-17 by Province',xlabel='Tourism Demand(Millions)',ylabel='')"
   ]
  },
  {
   "cell_type": "code",
   "execution_count": 93,
   "metadata": {},
   "outputs": [
    {
     "data": {
      "text/plain": [
       "[Text(0.5, 1.0, 'Where British Columbias Tourists are Visiting from'),\n",
       " Text(0, 0.5, 'Total Demand(Millions)')]"
      ]
     },
     "execution_count": 93,
     "metadata": {},
     "output_type": "execute_result"
    },
    {
     "data": {
      "image/png": "[encoded data removed]",
      "text/plain": [
       "<Figure size 1152x720 with 1 Axes>"
      ]
     },
     "metadata": {
      "needs_background": "light"
     },
     "output_type": "display_data"
    }
   ],
   "source": [
    "\n",
    "#This is British  Columbias 2014 vs 2017 total tourism spending value (in millions) comparing domestic, interprovincial demand, and international demand \n",
    "#to see where most of the average tourist spending comes from\n",
    "plt.figure(figsize = (16,10))\n",
    "sns.barplot(x='Indicators',y='Value',hue='Year',data=df4, estimator=np.max, palette='Paired').set(title= 'Where British Columbias Tourists are Visiting from',ylabel='Total Demand(Millions)')"
   ]
  },
  {
   "cell_type": "code",
   "execution_count": 124,
   "metadata": {},
   "outputs": [
    {
     "data": {
      "text/plain": [
       "[Text(0.5, 1.0, 'Where Canadas Tourists are Visiting from'),\n",
       " Text(0, 0.5, 'Total Demand(Millions)')]"
      ]
     },
     "execution_count": 124,
     "metadata": {},
     "output_type": "execute_result"
    },
    {
     "data": {
      "image/png": "[encoded data removed]",
      "text/plain": [
       "<Figure size 1152x720 with 1 Axes>"
      ]
     },
     "metadata": {
      "needs_background": "light"
     },
     "output_type": "display_data"
    }
   ],
   "source": [
    "#Next for fun I want to explore Where Ontario's Tourists come from Domestic or International?\n",
    "df5 = df2[df2['Location'].isin(['Canada'])]\n",
    "df6 = df2[df2['Indicators'].isin(['Interprovincial demand (exports)','Domestic demand','International demand (exports)'])]\n",
    "df6.head()\n",
    "plt.figure(figsize = (16,10))\n",
    "sns.barplot(x='Indicators',y='Value',hue='Year',data=df6, estimator=np.max, palette='husl').set(title= 'Where Canadas Tourists are Visiting from',ylabel='Total Demand(Millions)')"
   ]
  },
  {
   "cell_type": "markdown",
   "metadata": {},
   "source": [
    "### TASK 2 - Analysis Pipeline"
   ]
  },
  {
   "cell_type": "markdown",
   "metadata": {},
   "source": [
    "#### 2.1 Load Data"
   ]
  },
  {
   "cell_type": "code",
   "execution_count": 21,
   "metadata": {
    "tags": []
   },
   "outputs": [
    {
     "data": {
      "text/html": [
       "<div>\n",
       "<style scoped>\n",
       "    .dataframe tbody tr th:only-of-type {\n",
       "        vertical-align: middle;\n",
       "    }\n",
       "\n",
       "    .dataframe tbody tr th {\n",
       "        vertical-align: top;\n",
       "    }\n",
       "\n",
       "    .dataframe thead th {\n",
       "        text-align: right;\n",
       "    }\n",
       "</style>\n",
       "<table border=\"1\" class=\"dataframe\">\n",
       "  <thead>\n",
       "    <tr style=\"text-align: right;\">\n",
       "      <th></th>\n",
       "      <th>REF_DATE</th>\n",
       "      <th>GEO</th>\n",
       "      <th>DGUID</th>\n",
       "      <th>Indicators</th>\n",
       "      <th>Products</th>\n",
       "      <th>UOM</th>\n",
       "      <th>UOM_ID</th>\n",
       "      <th>SCALAR_FACTOR</th>\n",
       "      <th>SCALAR_ID</th>\n",
       "      <th>VECTOR</th>\n",
       "      <th>COORDINATE</th>\n",
       "      <th>VALUE</th>\n",
       "      <th>STATUS</th>\n",
       "      <th>SYMBOL</th>\n",
       "      <th>TERMINATED</th>\n",
       "      <th>DECIMALS</th>\n",
       "    </tr>\n",
       "  </thead>\n",
       "  <tbody>\n",
       "    <tr>\n",
       "      <th>0</th>\n",
       "      <td>2014</td>\n",
       "      <td>Canada</td>\n",
       "      <td>2016A11124</td>\n",
       "      <td>Total domestic supply</td>\n",
       "      <td>Total tourism expenditures</td>\n",
       "      <td>Dollars</td>\n",
       "      <td>81</td>\n",
       "      <td>millions</td>\n",
       "      <td>6</td>\n",
       "      <td>v1001801179</td>\n",
       "      <td>1.1.1</td>\n",
       "      <td>3654954.0</td>\n",
       "      <td>NaN</td>\n",
       "      <td>NaN</td>\n",
       "      <td>NaN</td>\n",
       "      <td>1</td>\n",
       "    </tr>\n",
       "    <tr>\n",
       "      <th>1</th>\n",
       "      <td>2014</td>\n",
       "      <td>Canada</td>\n",
       "      <td>2016A11124</td>\n",
       "      <td>Total domestic supply</td>\n",
       "      <td>Total tourism products</td>\n",
       "      <td>Dollars</td>\n",
       "      <td>81</td>\n",
       "      <td>millions</td>\n",
       "      <td>6</td>\n",
       "      <td>v1001801180</td>\n",
       "      <td>1.1.2</td>\n",
       "      <td>212829.4</td>\n",
       "      <td>NaN</td>\n",
       "      <td>NaN</td>\n",
       "      <td>NaN</td>\n",
       "      <td>1</td>\n",
       "    </tr>\n",
       "    <tr>\n",
       "      <th>2</th>\n",
       "      <td>2014</td>\n",
       "      <td>Canada</td>\n",
       "      <td>2016A11124</td>\n",
       "      <td>Total domestic supply</td>\n",
       "      <td>Total transportation</td>\n",
       "      <td>Dollars</td>\n",
       "      <td>81</td>\n",
       "      <td>millions</td>\n",
       "      <td>6</td>\n",
       "      <td>v1001801181</td>\n",
       "      <td>1.1.3</td>\n",
       "      <td>98108.0</td>\n",
       "      <td>NaN</td>\n",
       "      <td>NaN</td>\n",
       "      <td>NaN</td>\n",
       "      <td>1</td>\n",
       "    </tr>\n",
       "    <tr>\n",
       "      <th>3</th>\n",
       "      <td>2014</td>\n",
       "      <td>Canada</td>\n",
       "      <td>2016A11124</td>\n",
       "      <td>Total domestic supply</td>\n",
       "      <td>Passenger air transport</td>\n",
       "      <td>Dollars</td>\n",
       "      <td>81</td>\n",
       "      <td>millions</td>\n",
       "      <td>6</td>\n",
       "      <td>v1001801182</td>\n",
       "      <td>1.1.4</td>\n",
       "      <td>19961.5</td>\n",
       "      <td>NaN</td>\n",
       "      <td>NaN</td>\n",
       "      <td>NaN</td>\n",
       "      <td>1</td>\n",
       "    </tr>\n",
       "    <tr>\n",
       "      <th>4</th>\n",
       "      <td>2014</td>\n",
       "      <td>Canada</td>\n",
       "      <td>2016A11124</td>\n",
       "      <td>Total domestic supply</td>\n",
       "      <td>Passenger rail transport</td>\n",
       "      <td>Dollars</td>\n",
       "      <td>81</td>\n",
       "      <td>millions</td>\n",
       "      <td>6</td>\n",
       "      <td>v1001801183</td>\n",
       "      <td>1.1.5</td>\n",
       "      <td>309.6</td>\n",
       "      <td>NaN</td>\n",
       "      <td>NaN</td>\n",
       "      <td>NaN</td>\n",
       "      <td>1</td>\n",
       "    </tr>\n",
       "  </tbody>\n",
       "</table>\n",
       "</div>"
      ],
      "text/plain": [
       "   REF_DATE     GEO       DGUID             Indicators  \\\n",
       "0      2014  Canada  2016A11124  Total domestic supply   \n",
       "1      2014  Canada  2016A11124  Total domestic supply   \n",
       "2      2014  Canada  2016A11124  Total domestic supply   \n",
       "3      2014  Canada  2016A11124  Total domestic supply   \n",
       "4      2014  Canada  2016A11124  Total domestic supply   \n",
       "\n",
       "                     Products      UOM  UOM_ID SCALAR_FACTOR  SCALAR_ID  \\\n",
       "0  Total tourism expenditures  Dollars      81      millions          6   \n",
       "1      Total tourism products  Dollars      81      millions          6   \n",
       "2        Total transportation  Dollars      81      millions          6   \n",
       "3     Passenger air transport  Dollars      81      millions          6   \n",
       "4    Passenger rail transport  Dollars      81      millions          6   \n",
       "\n",
       "        VECTOR COORDINATE      VALUE STATUS  SYMBOL  TERMINATED  DECIMALS  \n",
       "0  v1001801179      1.1.1  3654954.0    NaN     NaN         NaN         1  \n",
       "1  v1001801180      1.1.2   212829.4    NaN     NaN         NaN         1  \n",
       "2  v1001801181      1.1.3    98108.0    NaN     NaN         NaN         1  \n",
       "3  v1001801182      1.1.4    19961.5    NaN     NaN         NaN         1  \n",
       "4  v1001801183      1.1.5      309.6    NaN     NaN         NaN         1  "
      ]
     },
     "execution_count": 21,
     "metadata": {},
     "output_type": "execute_result"
    }
   ],
   "source": [
    "#This was loaded in the EDA but will reprint here \n",
    "import numpy as np\n",
    "import pandas as pd\n",
    "import seaborn as sns\n",
    "import matplotlib.pyplot as plt\n",
    "df1 = pd.read_csv(\"../data/raw/tourism.csv\")\n",
    "pd.set_option('display.max_rows', 10)\n",
    "df1.head()"
   ]
  },
  {
   "cell_type": "markdown",
   "metadata": {},
   "source": [
    "#### 2.2 Clean Data"
   ]
  },
  {
   "cell_type": "code",
   "execution_count": 22,
   "metadata": {
    "tags": []
   },
   "outputs": [],
   "source": [
    "#First I will remove columns not being used, and rows columns 13/14 with all null values using the .drop() function with inplace = True will keep the columns deleted whenever I refer to df \n",
    "df1.drop(columns=['DGUID','SCALAR_ID','VECTOR','COORDINATE','STATUS','DECIMALS','SYMBOL','TERMINATED','UOM_ID'], axis=1, inplace = True)"
   ]
  },
  {
   "cell_type": "code",
   "execution_count": 23,
   "metadata": {
    "tags": []
   },
   "outputs": [
    {
     "data": {
      "text/html": [
       "<div>\n",
       "<style scoped>\n",
       "    .dataframe tbody tr th:only-of-type {\n",
       "        vertical-align: middle;\n",
       "    }\n",
       "\n",
       "    .dataframe tbody tr th {\n",
       "        vertical-align: top;\n",
       "    }\n",
       "\n",
       "    .dataframe thead th {\n",
       "        text-align: right;\n",
       "    }\n",
       "</style>\n",
       "<table border=\"1\" class=\"dataframe\">\n",
       "  <thead>\n",
       "    <tr style=\"text-align: right;\">\n",
       "      <th></th>\n",
       "      <th>REF_DATE</th>\n",
       "      <th>GEO</th>\n",
       "      <th>Indicators</th>\n",
       "      <th>Products</th>\n",
       "      <th>UOM</th>\n",
       "      <th>SCALAR_FACTOR</th>\n",
       "      <th>VALUE</th>\n",
       "    </tr>\n",
       "  </thead>\n",
       "  <tbody>\n",
       "    <tr>\n",
       "      <th>0</th>\n",
       "      <td>2014</td>\n",
       "      <td>Canada</td>\n",
       "      <td>Total domestic supply</td>\n",
       "      <td>Total tourism expenditures</td>\n",
       "      <td>Dollars</td>\n",
       "      <td>millions</td>\n",
       "      <td>3654954.0</td>\n",
       "    </tr>\n",
       "    <tr>\n",
       "      <th>1</th>\n",
       "      <td>2014</td>\n",
       "      <td>Canada</td>\n",
       "      <td>Total domestic supply</td>\n",
       "      <td>Total tourism products</td>\n",
       "      <td>Dollars</td>\n",
       "      <td>millions</td>\n",
       "      <td>212829.4</td>\n",
       "    </tr>\n",
       "    <tr>\n",
       "      <th>2</th>\n",
       "      <td>2014</td>\n",
       "      <td>Canada</td>\n",
       "      <td>Total domestic supply</td>\n",
       "      <td>Total transportation</td>\n",
       "      <td>Dollars</td>\n",
       "      <td>millions</td>\n",
       "      <td>98108.0</td>\n",
       "    </tr>\n",
       "    <tr>\n",
       "      <th>3</th>\n",
       "      <td>2014</td>\n",
       "      <td>Canada</td>\n",
       "      <td>Total domestic supply</td>\n",
       "      <td>Passenger air transport</td>\n",
       "      <td>Dollars</td>\n",
       "      <td>millions</td>\n",
       "      <td>19961.5</td>\n",
       "    </tr>\n",
       "    <tr>\n",
       "      <th>4</th>\n",
       "      <td>2014</td>\n",
       "      <td>Canada</td>\n",
       "      <td>Total domestic supply</td>\n",
       "      <td>Passenger rail transport</td>\n",
       "      <td>Dollars</td>\n",
       "      <td>millions</td>\n",
       "      <td>309.6</td>\n",
       "    </tr>\n",
       "  </tbody>\n",
       "</table>\n",
       "</div>"
      ],
      "text/plain": [
       "   REF_DATE     GEO             Indicators                    Products  \\\n",
       "0      2014  Canada  Total domestic supply  Total tourism expenditures   \n",
       "1      2014  Canada  Total domestic supply      Total tourism products   \n",
       "2      2014  Canada  Total domestic supply        Total transportation   \n",
       "3      2014  Canada  Total domestic supply     Passenger air transport   \n",
       "4      2014  Canada  Total domestic supply    Passenger rail transport   \n",
       "\n",
       "       UOM SCALAR_FACTOR      VALUE  \n",
       "0  Dollars      millions  3654954.0  \n",
       "1  Dollars      millions   212829.4  \n",
       "2  Dollars      millions    98108.0  \n",
       "3  Dollars      millions    19961.5  \n",
       "4  Dollars      millions      309.6  "
      ]
     },
     "execution_count": 23,
     "metadata": {},
     "output_type": "execute_result"
    }
   ],
   "source": [
    "df1.head()"
   ]
  },
  {
   "cell_type": "code",
   "execution_count": 24,
   "metadata": {},
   "outputs": [],
   "source": [
    "#Dealing with missing values. The only NaN values left are about 200 in the values column which is the only value column\n",
    "#I will then delete all the rows with a NaN value\n",
    "df2 = df1.dropna()"
   ]
  },
  {
   "cell_type": "code",
   "execution_count": 25,
   "metadata": {},
   "outputs": [
    {
     "name": "stdout",
     "output_type": "stream",
     "text": [
      "<class 'pandas.core.frame.DataFrame'>\n",
      "Int64Index: 7521 entries, 0 to 8959\n",
      "Data columns (total 7 columns):\n",
      " #   Column         Non-Null Count  Dtype  \n",
      "---  ------         --------------  -----  \n",
      " 0   REF_DATE       7521 non-null   int64  \n",
      " 1   GEO            7521 non-null   object \n",
      " 2   Indicators     7521 non-null   object \n",
      " 3   Products       7521 non-null   object \n",
      " 4   UOM            7521 non-null   object \n",
      " 5   SCALAR_FACTOR  7521 non-null   object \n",
      " 6   VALUE          7521 non-null   float64\n",
      "dtypes: float64(1), int64(1), object(5)\n",
      "memory usage: 470.1+ KB\n"
     ]
    }
   ],
   "source": [
    "#Checking if it worked.\n",
    "df2.info()"
   ]
  },
  {
   "cell_type": "markdown",
   "metadata": {},
   "source": [
    "#### 2.3 Process Data"
   ]
  },
  {
   "cell_type": "markdown",
   "metadata": {},
   "source": [
    "#### 2.4 Wrangle Data "
   ]
  },
  {
   "cell_type": "code",
   "execution_count": 27,
   "metadata": {},
   "outputs": [
    {
     "data": {
      "text/html": [
       "<div>\n",
       "<style scoped>\n",
       "    .dataframe tbody tr th:only-of-type {\n",
       "        vertical-align: middle;\n",
       "    }\n",
       "\n",
       "    .dataframe tbody tr th {\n",
       "        vertical-align: top;\n",
       "    }\n",
       "\n",
       "    .dataframe thead th {\n",
       "        text-align: right;\n",
       "    }\n",
       "</style>\n",
       "<table border=\"1\" class=\"dataframe\">\n",
       "  <thead>\n",
       "    <tr style=\"text-align: right;\">\n",
       "      <th></th>\n",
       "      <th>Year</th>\n",
       "      <th>Location</th>\n",
       "      <th>Indicators</th>\n",
       "      <th>Products</th>\n",
       "      <th>Measure</th>\n",
       "      <th>Scale</th>\n",
       "      <th>Value</th>\n",
       "    </tr>\n",
       "  </thead>\n",
       "  <tbody>\n",
       "    <tr>\n",
       "      <th>0</th>\n",
       "      <td>2014</td>\n",
       "      <td>Canada</td>\n",
       "      <td>Total domestic supply</td>\n",
       "      <td>Total tourism expenditures</td>\n",
       "      <td>Dollars</td>\n",
       "      <td>millions</td>\n",
       "      <td>3654954.0</td>\n",
       "    </tr>\n",
       "    <tr>\n",
       "      <th>1</th>\n",
       "      <td>2014</td>\n",
       "      <td>Canada</td>\n",
       "      <td>Total domestic supply</td>\n",
       "      <td>Total tourism products</td>\n",
       "      <td>Dollars</td>\n",
       "      <td>millions</td>\n",
       "      <td>212829.4</td>\n",
       "    </tr>\n",
       "    <tr>\n",
       "      <th>2</th>\n",
       "      <td>2014</td>\n",
       "      <td>Canada</td>\n",
       "      <td>Total domestic supply</td>\n",
       "      <td>Total transportation</td>\n",
       "      <td>Dollars</td>\n",
       "      <td>millions</td>\n",
       "      <td>98108.0</td>\n",
       "    </tr>\n",
       "    <tr>\n",
       "      <th>3</th>\n",
       "      <td>2014</td>\n",
       "      <td>Canada</td>\n",
       "      <td>Total domestic supply</td>\n",
       "      <td>Passenger air transport</td>\n",
       "      <td>Dollars</td>\n",
       "      <td>millions</td>\n",
       "      <td>19961.5</td>\n",
       "    </tr>\n",
       "    <tr>\n",
       "      <th>4</th>\n",
       "      <td>2014</td>\n",
       "      <td>Canada</td>\n",
       "      <td>Total domestic supply</td>\n",
       "      <td>Passenger rail transport</td>\n",
       "      <td>Dollars</td>\n",
       "      <td>millions</td>\n",
       "      <td>309.6</td>\n",
       "    </tr>\n",
       "  </tbody>\n",
       "</table>\n",
       "</div>"
      ],
      "text/plain": [
       "   Year Location             Indicators                    Products  Measure  \\\n",
       "0  2014   Canada  Total domestic supply  Total tourism expenditures  Dollars   \n",
       "1  2014   Canada  Total domestic supply      Total tourism products  Dollars   \n",
       "2  2014   Canada  Total domestic supply        Total transportation  Dollars   \n",
       "3  2014   Canada  Total domestic supply     Passenger air transport  Dollars   \n",
       "4  2014   Canada  Total domestic supply    Passenger rail transport  Dollars   \n",
       "\n",
       "      Scale      Value  \n",
       "0  millions  3654954.0  \n",
       "1  millions   212829.4  \n",
       "2  millions    98108.0  \n",
       "3  millions    19961.5  \n",
       "4  millions      309.6  "
      ]
     },
     "execution_count": 27,
     "metadata": {},
     "output_type": "execute_result"
    }
   ],
   "source": [
    "#not sure if this is processing or wrangling but here I will rename column names so they are eassier to understand\n",
    "df2 = df2.rename(columns = {\n",
    "               'REF_DATE': \"Year\",\n",
    "               'GEO': \"Location\",\n",
    "               'UOM':\"Measure\",\n",
    "               'VALUE':\"Value\",\n",
    "               'SCALAR_FACTOR': \"Scale\"\n",
    "              })     \n",
    "df2.head()\n"
   ]
  },
  {
   "cell_type": "code",
   "execution_count": 29,
   "metadata": {},
   "outputs": [
    {
     "data": {
      "text/html": [
       "<div>\n",
       "<style scoped>\n",
       "    .dataframe tbody tr th:only-of-type {\n",
       "        vertical-align: middle;\n",
       "    }\n",
       "\n",
       "    .dataframe tbody tr th {\n",
       "        vertical-align: top;\n",
       "    }\n",
       "\n",
       "    .dataframe thead th {\n",
       "        text-align: right;\n",
       "    }\n",
       "</style>\n",
       "<table border=\"1\" class=\"dataframe\">\n",
       "  <thead>\n",
       "    <tr style=\"text-align: right;\">\n",
       "      <th></th>\n",
       "      <th>Year</th>\n",
       "      <th>Location</th>\n",
       "      <th>Indicators</th>\n",
       "      <th>Products</th>\n",
       "      <th>Measure</th>\n",
       "      <th>Scale</th>\n",
       "      <th>Value</th>\n",
       "    </tr>\n",
       "  </thead>\n",
       "  <tbody>\n",
       "    <tr>\n",
       "      <th>3232</th>\n",
       "      <td>2014</td>\n",
       "      <td>British Columbia</td>\n",
       "      <td>Total demand</td>\n",
       "      <td>Total tourism expenditures</td>\n",
       "      <td>Dollars</td>\n",
       "      <td>millions</td>\n",
       "      <td>15570.4</td>\n",
       "    </tr>\n",
       "    <tr>\n",
       "      <th>3233</th>\n",
       "      <td>2014</td>\n",
       "      <td>British Columbia</td>\n",
       "      <td>Total demand</td>\n",
       "      <td>Total tourism products</td>\n",
       "      <td>Dollars</td>\n",
       "      <td>millions</td>\n",
       "      <td>13331.3</td>\n",
       "    </tr>\n",
       "    <tr>\n",
       "      <th>3234</th>\n",
       "      <td>2014</td>\n",
       "      <td>British Columbia</td>\n",
       "      <td>Total demand</td>\n",
       "      <td>Total transportation</td>\n",
       "      <td>Dollars</td>\n",
       "      <td>millions</td>\n",
       "      <td>6422.3</td>\n",
       "    </tr>\n",
       "    <tr>\n",
       "      <th>3235</th>\n",
       "      <td>2014</td>\n",
       "      <td>British Columbia</td>\n",
       "      <td>Total demand</td>\n",
       "      <td>Passenger air transport</td>\n",
       "      <td>Dollars</td>\n",
       "      <td>millions</td>\n",
       "      <td>3957.6</td>\n",
       "    </tr>\n",
       "    <tr>\n",
       "      <th>3236</th>\n",
       "      <td>2014</td>\n",
       "      <td>British Columbia</td>\n",
       "      <td>Total demand</td>\n",
       "      <td>Passenger rail transport</td>\n",
       "      <td>Dollars</td>\n",
       "      <td>millions</td>\n",
       "      <td>15.5</td>\n",
       "    </tr>\n",
       "  </tbody>\n",
       "</table>\n",
       "</div>"
      ],
      "text/plain": [
       "      Year          Location    Indicators                    Products  \\\n",
       "3232  2014  British Columbia  Total demand  Total tourism expenditures   \n",
       "3233  2014  British Columbia  Total demand      Total tourism products   \n",
       "3234  2014  British Columbia  Total demand        Total transportation   \n",
       "3235  2014  British Columbia  Total demand     Passenger air transport   \n",
       "3236  2014  British Columbia  Total demand    Passenger rail transport   \n",
       "\n",
       "      Measure     Scale    Value  \n",
       "3232  Dollars  millions  15570.4  \n",
       "3233  Dollars  millions  13331.3  \n",
       "3234  Dollars  millions   6422.3  \n",
       "3235  Dollars  millions   3957.6  \n",
       "3236  Dollars  millions     15.5  "
      ]
     },
     "execution_count": 29,
     "metadata": {},
     "output_type": "execute_result"
    }
   ],
   "source": [
    "df3 = df2[df2['Location'].isin(['British Columbia'])]\n",
    "df4 = df3[df3['Indicators'].isin(['Total demand','Interprovincial demand (exports)','Domestic demand','International demand (exports)'])]\n",
    "df4.head()"
   ]
  },
  {
   "cell_type": "markdown",
   "metadata": {},
   "source": [
    "### TASK 3 - Method Chain 3.1 "
   ]
  },
  {
   "cell_type": "code",
   "execution_count": 31,
   "metadata": {},
   "outputs": [
    {
     "data": {
      "text/html": [
       "<div>\n",
       "<style scoped>\n",
       "    .dataframe tbody tr th:only-of-type {\n",
       "        vertical-align: middle;\n",
       "    }\n",
       "\n",
       "    .dataframe tbody tr th {\n",
       "        vertical-align: top;\n",
       "    }\n",
       "\n",
       "    .dataframe thead th {\n",
       "        text-align: right;\n",
       "    }\n",
       "</style>\n",
       "<table border=\"1\" class=\"dataframe\">\n",
       "  <thead>\n",
       "    <tr style=\"text-align: right;\">\n",
       "      <th></th>\n",
       "      <th>Year</th>\n",
       "      <th>Location</th>\n",
       "      <th>Indicators</th>\n",
       "      <th>Products</th>\n",
       "      <th>UOM</th>\n",
       "      <th>Scalar Factor</th>\n",
       "      <th>Value</th>\n",
       "    </tr>\n",
       "  </thead>\n",
       "  <tbody>\n",
       "    <tr>\n",
       "      <th>0</th>\n",
       "      <td>2014</td>\n",
       "      <td>Canada</td>\n",
       "      <td>Total domestic supply</td>\n",
       "      <td>Total tourism expenditures</td>\n",
       "      <td>Dollars</td>\n",
       "      <td>millions</td>\n",
       "      <td>3654954.0</td>\n",
       "    </tr>\n",
       "    <tr>\n",
       "      <th>1</th>\n",
       "      <td>2014</td>\n",
       "      <td>Canada</td>\n",
       "      <td>Total domestic supply</td>\n",
       "      <td>Total tourism products</td>\n",
       "      <td>Dollars</td>\n",
       "      <td>millions</td>\n",
       "      <td>212829.4</td>\n",
       "    </tr>\n",
       "    <tr>\n",
       "      <th>2</th>\n",
       "      <td>2014</td>\n",
       "      <td>Canada</td>\n",
       "      <td>Total domestic supply</td>\n",
       "      <td>Total transportation</td>\n",
       "      <td>Dollars</td>\n",
       "      <td>millions</td>\n",
       "      <td>98108.0</td>\n",
       "    </tr>\n",
       "    <tr>\n",
       "      <th>3</th>\n",
       "      <td>2014</td>\n",
       "      <td>Canada</td>\n",
       "      <td>Total domestic supply</td>\n",
       "      <td>Passenger air transport</td>\n",
       "      <td>Dollars</td>\n",
       "      <td>millions</td>\n",
       "      <td>19961.5</td>\n",
       "    </tr>\n",
       "    <tr>\n",
       "      <th>4</th>\n",
       "      <td>2014</td>\n",
       "      <td>Canada</td>\n",
       "      <td>Total domestic supply</td>\n",
       "      <td>Passenger rail transport</td>\n",
       "      <td>Dollars</td>\n",
       "      <td>millions</td>\n",
       "      <td>309.6</td>\n",
       "    </tr>\n",
       "  </tbody>\n",
       "</table>\n",
       "</div>"
      ],
      "text/plain": [
       "   Year Location             Indicators                    Products      UOM  \\\n",
       "0  2014   Canada  Total domestic supply  Total tourism expenditures  Dollars   \n",
       "1  2014   Canada  Total domestic supply      Total tourism products  Dollars   \n",
       "2  2014   Canada  Total domestic supply        Total transportation  Dollars   \n",
       "3  2014   Canada  Total domestic supply     Passenger air transport  Dollars   \n",
       "4  2014   Canada  Total domestic supply    Passenger rail transport  Dollars   \n",
       "\n",
       "  Scalar Factor      Value  \n",
       "0      millions  3654954.0  \n",
       "1      millions   212829.4  \n",
       "2      millions    98108.0  \n",
       "3      millions    19961.5  \n",
       "4      millions      309.6  "
      ]
     },
     "execution_count": 31,
     "metadata": {},
     "output_type": "execute_result"
    }
   ],
   "source": [
    "\n",
    "df = (\n",
    "    pd.read_csv(\"../data/raw/tourism.csv\")\n",
    "    .drop(columns=['DGUID','UOM_ID','SCALAR_ID','VECTOR', 'COORDINATE', 'STATUS','SYMBOL','TERMINATED', 'DECIMALS'],axis=1)\n",
    "    .dropna()\n",
    "    .rename(columns={\"REF_DATE\":\"Year\", \"GEO\":\"Location\", \"SCALAR_FACTOR\":\"Scalar Factor\", \"VALUE\":\"Value\"})\n",
    ")\n",
    "df.head()\n"
   ]
  },
  {
   "cell_type": "markdown",
   "metadata": {},
   "source": [
    "#### Method Chain 3.2 Wrap Method Chain into Function"
   ]
  },
  {
   "cell_type": "code",
   "execution_count": 16,
   "metadata": {},
   "outputs": [],
   "source": [
    "def load_and_process(url_or_path_to_csv_file):\n",
    "    df = (\n",
    "    pd.read_csv(url_or_path_to_csv_file)\n",
    "    .drop(columns=['DGUID','UOM_ID','SCALAR_ID','VECTOR', 'COORDINATE', 'STATUS','SYMBOL','TERMINATED', 'DECIMALS'],axis=1)\n",
    "    .dropna()\n",
    "    .rename(columns={\"REF_DATE\":\"Year\", \"GEO\":\"Location\", \"SCALAR_FACTOR\":\"Scalar Factor\", \"VALUE\":\"Value\"})\n",
    "    )\n",
    "    return df\n",
    "    "
   ]
  },
  {
   "cell_type": "code",
   "execution_count": 17,
   "metadata": {},
   "outputs": [
    {
     "data": {
      "text/html": [
       "<div>\n",
       "<style scoped>\n",
       "    .dataframe tbody tr th:only-of-type {\n",
       "        vertical-align: middle;\n",
       "    }\n",
       "\n",
       "    .dataframe tbody tr th {\n",
       "        vertical-align: top;\n",
       "    }\n",
       "\n",
       "    .dataframe thead th {\n",
       "        text-align: right;\n",
       "    }\n",
       "</style>\n",
       "<table border=\"1\" class=\"dataframe\">\n",
       "  <thead>\n",
       "    <tr style=\"text-align: right;\">\n",
       "      <th></th>\n",
       "      <th>Year</th>\n",
       "      <th>Location</th>\n",
       "      <th>Indicators</th>\n",
       "      <th>Products</th>\n",
       "      <th>UOM</th>\n",
       "      <th>Scalar Factor</th>\n",
       "      <th>Value</th>\n",
       "    </tr>\n",
       "  </thead>\n",
       "  <tbody>\n",
       "    <tr>\n",
       "      <th>0</th>\n",
       "      <td>2014</td>\n",
       "      <td>Canada</td>\n",
       "      <td>Total domestic supply</td>\n",
       "      <td>Total tourism expenditures</td>\n",
       "      <td>Dollars</td>\n",
       "      <td>millions</td>\n",
       "      <td>3654954.0</td>\n",
       "    </tr>\n",
       "    <tr>\n",
       "      <th>1</th>\n",
       "      <td>2014</td>\n",
       "      <td>Canada</td>\n",
       "      <td>Total domestic supply</td>\n",
       "      <td>Total tourism products</td>\n",
       "      <td>Dollars</td>\n",
       "      <td>millions</td>\n",
       "      <td>212829.4</td>\n",
       "    </tr>\n",
       "    <tr>\n",
       "      <th>2</th>\n",
       "      <td>2014</td>\n",
       "      <td>Canada</td>\n",
       "      <td>Total domestic supply</td>\n",
       "      <td>Total transportation</td>\n",
       "      <td>Dollars</td>\n",
       "      <td>millions</td>\n",
       "      <td>98108.0</td>\n",
       "    </tr>\n",
       "    <tr>\n",
       "      <th>3</th>\n",
       "      <td>2014</td>\n",
       "      <td>Canada</td>\n",
       "      <td>Total domestic supply</td>\n",
       "      <td>Passenger air transport</td>\n",
       "      <td>Dollars</td>\n",
       "      <td>millions</td>\n",
       "      <td>19961.5</td>\n",
       "    </tr>\n",
       "    <tr>\n",
       "      <th>4</th>\n",
       "      <td>2014</td>\n",
       "      <td>Canada</td>\n",
       "      <td>Total domestic supply</td>\n",
       "      <td>Passenger rail transport</td>\n",
       "      <td>Dollars</td>\n",
       "      <td>millions</td>\n",
       "      <td>309.6</td>\n",
       "    </tr>\n",
       "    <tr>\n",
       "      <th>...</th>\n",
       "      <td>...</td>\n",
       "      <td>...</td>\n",
       "      <td>...</td>\n",
       "      <td>...</td>\n",
       "      <td>...</td>\n",
       "      <td>...</td>\n",
       "      <td>...</td>\n",
       "    </tr>\n",
       "    <tr>\n",
       "      <th>8954</th>\n",
       "      <td>2017</td>\n",
       "      <td>Nunavut</td>\n",
       "      <td>Tourism product ratio</td>\n",
       "      <td>Pre-trip expenses</td>\n",
       "      <td>Percentage</td>\n",
       "      <td>millions</td>\n",
       "      <td>100.0</td>\n",
       "    </tr>\n",
       "    <tr>\n",
       "      <th>8955</th>\n",
       "      <td>2017</td>\n",
       "      <td>Nunavut</td>\n",
       "      <td>Tourism product ratio</td>\n",
       "      <td>Total other products</td>\n",
       "      <td>Percentage</td>\n",
       "      <td>millions</td>\n",
       "      <td>0.2</td>\n",
       "    </tr>\n",
       "    <tr>\n",
       "      <th>8956</th>\n",
       "      <td>2017</td>\n",
       "      <td>Nunavut</td>\n",
       "      <td>Tourism product ratio</td>\n",
       "      <td>Groceries</td>\n",
       "      <td>Percentage</td>\n",
       "      <td>millions</td>\n",
       "      <td>8.4</td>\n",
       "    </tr>\n",
       "    <tr>\n",
       "      <th>8957</th>\n",
       "      <td>2017</td>\n",
       "      <td>Nunavut</td>\n",
       "      <td>Tourism product ratio</td>\n",
       "      <td>Beer, wine, and liquor from stores</td>\n",
       "      <td>Percentage</td>\n",
       "      <td>millions</td>\n",
       "      <td>9.0</td>\n",
       "    </tr>\n",
       "    <tr>\n",
       "      <th>8959</th>\n",
       "      <td>2017</td>\n",
       "      <td>Nunavut</td>\n",
       "      <td>Tourism product ratio</td>\n",
       "      <td>Miscellaneous products</td>\n",
       "      <td>Percentage</td>\n",
       "      <td>millions</td>\n",
       "      <td>0.0</td>\n",
       "    </tr>\n",
       "  </tbody>\n",
       "</table>\n",
       "<p>7521 rows × 7 columns</p>\n",
       "</div>"
      ],
      "text/plain": [
       "      Year Location             Indicators  \\\n",
       "0     2014   Canada  Total domestic supply   \n",
       "1     2014   Canada  Total domestic supply   \n",
       "2     2014   Canada  Total domestic supply   \n",
       "3     2014   Canada  Total domestic supply   \n",
       "4     2014   Canada  Total domestic supply   \n",
       "...    ...      ...                    ...   \n",
       "8954  2017  Nunavut  Tourism product ratio   \n",
       "8955  2017  Nunavut  Tourism product ratio   \n",
       "8956  2017  Nunavut  Tourism product ratio   \n",
       "8957  2017  Nunavut  Tourism product ratio   \n",
       "8959  2017  Nunavut  Tourism product ratio   \n",
       "\n",
       "                                Products         UOM Scalar Factor      Value  \n",
       "0             Total tourism expenditures     Dollars      millions  3654954.0  \n",
       "1                 Total tourism products     Dollars      millions   212829.4  \n",
       "2                   Total transportation     Dollars      millions    98108.0  \n",
       "3                Passenger air transport     Dollars      millions    19961.5  \n",
       "4               Passenger rail transport     Dollars      millions      309.6  \n",
       "...                                  ...         ...           ...        ...  \n",
       "8954                   Pre-trip expenses  Percentage      millions      100.0  \n",
       "8955                Total other products  Percentage      millions        0.2  \n",
       "8956                           Groceries  Percentage      millions        8.4  \n",
       "8957  Beer, wine, and liquor from stores  Percentage      millions        9.0  \n",
       "8959              Miscellaneous products  Percentage      millions        0.0  \n",
       "\n",
       "[7521 rows x 7 columns]"
      ]
     },
     "execution_count": 17,
     "metadata": {},
     "output_type": "execute_result"
    }
   ],
   "source": [
    "load_and_process(\"../data/raw/tourism.csv\")"
   ]
  },
  {
   "cell_type": "markdown",
   "metadata": {},
   "source": [
    "### Method Chain 3.3 Adding function to py.file / importing the project_function back here"
   ]
  },
  {
   "cell_type": "code",
   "execution_count": 32,
   "metadata": {},
   "outputs": [
    {
     "data": {
      "text/html": [
       "<div>\n",
       "<style scoped>\n",
       "    .dataframe tbody tr th:only-of-type {\n",
       "        vertical-align: middle;\n",
       "    }\n",
       "\n",
       "    .dataframe tbody tr th {\n",
       "        vertical-align: top;\n",
       "    }\n",
       "\n",
       "    .dataframe thead th {\n",
       "        text-align: right;\n",
       "    }\n",
       "</style>\n",
       "<table border=\"1\" class=\"dataframe\">\n",
       "  <thead>\n",
       "    <tr style=\"text-align: right;\">\n",
       "      <th></th>\n",
       "      <th>Year</th>\n",
       "      <th>Location</th>\n",
       "      <th>Indicators</th>\n",
       "      <th>Products</th>\n",
       "      <th>UOM</th>\n",
       "      <th>Scalar Factor</th>\n",
       "      <th>Value</th>\n",
       "    </tr>\n",
       "  </thead>\n",
       "  <tbody>\n",
       "    <tr>\n",
       "      <th>0</th>\n",
       "      <td>2014</td>\n",
       "      <td>Canada</td>\n",
       "      <td>Total domestic supply</td>\n",
       "      <td>Total tourism expenditures</td>\n",
       "      <td>Dollars</td>\n",
       "      <td>millions</td>\n",
       "      <td>3654954.0</td>\n",
       "    </tr>\n",
       "    <tr>\n",
       "      <th>1</th>\n",
       "      <td>2014</td>\n",
       "      <td>Canada</td>\n",
       "      <td>Total domestic supply</td>\n",
       "      <td>Total tourism products</td>\n",
       "      <td>Dollars</td>\n",
       "      <td>millions</td>\n",
       "      <td>212829.4</td>\n",
       "    </tr>\n",
       "    <tr>\n",
       "      <th>2</th>\n",
       "      <td>2014</td>\n",
       "      <td>Canada</td>\n",
       "      <td>Total domestic supply</td>\n",
       "      <td>Total transportation</td>\n",
       "      <td>Dollars</td>\n",
       "      <td>millions</td>\n",
       "      <td>98108.0</td>\n",
       "    </tr>\n",
       "    <tr>\n",
       "      <th>3</th>\n",
       "      <td>2014</td>\n",
       "      <td>Canada</td>\n",
       "      <td>Total domestic supply</td>\n",
       "      <td>Passenger air transport</td>\n",
       "      <td>Dollars</td>\n",
       "      <td>millions</td>\n",
       "      <td>19961.5</td>\n",
       "    </tr>\n",
       "    <tr>\n",
       "      <th>4</th>\n",
       "      <td>2014</td>\n",
       "      <td>Canada</td>\n",
       "      <td>Total domestic supply</td>\n",
       "      <td>Passenger rail transport</td>\n",
       "      <td>Dollars</td>\n",
       "      <td>millions</td>\n",
       "      <td>309.6</td>\n",
       "    </tr>\n",
       "    <tr>\n",
       "      <th>...</th>\n",
       "      <td>...</td>\n",
       "      <td>...</td>\n",
       "      <td>...</td>\n",
       "      <td>...</td>\n",
       "      <td>...</td>\n",
       "      <td>...</td>\n",
       "      <td>...</td>\n",
       "    </tr>\n",
       "    <tr>\n",
       "      <th>8954</th>\n",
       "      <td>2017</td>\n",
       "      <td>Nunavut</td>\n",
       "      <td>Tourism product ratio</td>\n",
       "      <td>Pre-trip expenses</td>\n",
       "      <td>Percentage</td>\n",
       "      <td>millions</td>\n",
       "      <td>100.0</td>\n",
       "    </tr>\n",
       "    <tr>\n",
       "      <th>8955</th>\n",
       "      <td>2017</td>\n",
       "      <td>Nunavut</td>\n",
       "      <td>Tourism product ratio</td>\n",
       "      <td>Total other products</td>\n",
       "      <td>Percentage</td>\n",
       "      <td>millions</td>\n",
       "      <td>0.2</td>\n",
       "    </tr>\n",
       "    <tr>\n",
       "      <th>8956</th>\n",
       "      <td>2017</td>\n",
       "      <td>Nunavut</td>\n",
       "      <td>Tourism product ratio</td>\n",
       "      <td>Groceries</td>\n",
       "      <td>Percentage</td>\n",
       "      <td>millions</td>\n",
       "      <td>8.4</td>\n",
       "    </tr>\n",
       "    <tr>\n",
       "      <th>8957</th>\n",
       "      <td>2017</td>\n",
       "      <td>Nunavut</td>\n",
       "      <td>Tourism product ratio</td>\n",
       "      <td>Beer, wine, and liquor from stores</td>\n",
       "      <td>Percentage</td>\n",
       "      <td>millions</td>\n",
       "      <td>9.0</td>\n",
       "    </tr>\n",
       "    <tr>\n",
       "      <th>8959</th>\n",
       "      <td>2017</td>\n",
       "      <td>Nunavut</td>\n",
       "      <td>Tourism product ratio</td>\n",
       "      <td>Miscellaneous products</td>\n",
       "      <td>Percentage</td>\n",
       "      <td>millions</td>\n",
       "      <td>0.0</td>\n",
       "    </tr>\n",
       "  </tbody>\n",
       "</table>\n",
       "<p>7521 rows × 7 columns</p>\n",
       "</div>"
      ],
      "text/plain": [
       "      Year Location             Indicators  \\\n",
       "0     2014   Canada  Total domestic supply   \n",
       "1     2014   Canada  Total domestic supply   \n",
       "2     2014   Canada  Total domestic supply   \n",
       "3     2014   Canada  Total domestic supply   \n",
       "4     2014   Canada  Total domestic supply   \n",
       "...    ...      ...                    ...   \n",
       "8954  2017  Nunavut  Tourism product ratio   \n",
       "8955  2017  Nunavut  Tourism product ratio   \n",
       "8956  2017  Nunavut  Tourism product ratio   \n",
       "8957  2017  Nunavut  Tourism product ratio   \n",
       "8959  2017  Nunavut  Tourism product ratio   \n",
       "\n",
       "                                Products         UOM Scalar Factor      Value  \n",
       "0             Total tourism expenditures     Dollars      millions  3654954.0  \n",
       "1                 Total tourism products     Dollars      millions   212829.4  \n",
       "2                   Total transportation     Dollars      millions    98108.0  \n",
       "3                Passenger air transport     Dollars      millions    19961.5  \n",
       "4               Passenger rail transport     Dollars      millions      309.6  \n",
       "...                                  ...         ...           ...        ...  \n",
       "8954                   Pre-trip expenses  Percentage      millions      100.0  \n",
       "8955                Total other products  Percentage      millions        0.2  \n",
       "8956                           Groceries  Percentage      millions        8.4  \n",
       "8957  Beer, wine, and liquor from stores  Percentage      millions        9.0  \n",
       "8959              Miscellaneous products  Percentage      millions        0.0  \n",
       "\n",
       "[7521 rows x 7 columns]"
      ]
     },
     "execution_count": 32,
     "metadata": {},
     "output_type": "execute_result"
    }
   ],
   "source": [
    "import project_functions3\n",
    "df = project_functions3.load_and_process(\"../data/raw/tourism.csv\")\n",
    "df"
   ]
  },
  {
   "cell_type": "code",
   "execution_count": 33,
   "metadata": {},
   "outputs": [],
   "source": [
    "df.to_csv('df.csv')"
   ]
  },
  {
   "cell_type": "markdown",
   "metadata": {},
   "source": [
    "### TASK 4 Conduct Analysis to help Answer Research Question."
   ]
  },
  {
   "cell_type": "markdown",
   "metadata": {
    "tags": []
   },
   "source": [
    "### Research Question #1:  What are all the provinces overall tourism spending compared to each other and what are their growth rates from 2014-2017?"
   ]
  },
  {
   "cell_type": "markdown",
   "metadata": {},
   "source": [
    "#### Below in the Table we can see some observations about the growth or decline in growth of overall tourism spending of all the provinces from 2014-2017\n",
    " - We can see the total demand values for Canadas provinces (in Millions).\n",
    " - Highlights: Ontarios Value has grown from roughly ~29 billion in 2014 to ~33.5 billions in 2017. About a 15.5% Growth in tourism spending. British Columbias tourism spending has grown from roughly ~15 billion in 2014 to ~20 billion in 2017, about a 25% growth rate. Which is highest growth of the main 4 provinces below. The other provinces are very small in comparison so I am choosing to ignore them in this observation."
   ]
  },
  {
   "cell_type": "code",
   "execution_count": 128,
   "metadata": {},
   "outputs": [
    {
     "data": {
      "text/plain": [
       "[Text(0.5, 1.0, 'Tourism Demand Growth 2014-17 by Province'),\n",
       " Text(0.5, 0, 'Tourism Demand(Millions)'),\n",
       " Text(0, 0.5, '')]"
      ]
     },
     "execution_count": 128,
     "metadata": {},
     "output_type": "execute_result"
    },
    {
     "data": {
      "image/png": "[encoded data removed]",
      "text/plain": [
       "<Figure size 1152x720 with 1 Axes>"
      ]
     },
     "metadata": {
      "needs_background": "light"
     },
     "output_type": "display_data"
    }
   ],
   "source": [
    "#Note I have used the max function because in the dataset there are rows that calculate the total demand which will be our value we are using\n",
    "#for each canada and the provinces the total demand in Millions\n",
    "plt.figure(figsize = (16,10))\n",
    "sns.barplot(x='Value',y='Location',hue='Year',data=df_bar1,estimator=np.max, palette = 'Paired',order=asc).set(title= 'Tourism Demand Growth 2014-17 by Province',xlabel='Tourism Demand(Millions)',ylabel='')"
   ]
  },
  {
   "cell_type": "markdown",
   "metadata": {},
   "source": [
    "## Research Question #2: Where are the majority of BCs tourists coming from: domestically or out-of-province?\n",
    " - Below These values are also used with a scale factor of millions, so the values here are ranging from 2.7 billion to 20 billion.\n",
    " - We can see most of the expenditures from BC come from Domestic residents, Although in 2017 the demand from BC residents and International residents are about the same, roughly 7.6 billion each.\n",
    " - We can see that out-of-province resdents demand only equates to about a quarter of total demand."
   ]
  },
  {
   "cell_type": "code",
   "execution_count": 129,
   "metadata": {},
   "outputs": [
    {
     "data": {
      "text/plain": [
       "[Text(0.5, 1.0, 'Where British Columbias Tourists are Visiting from'),\n",
       " Text(0, 0.5, 'Total Demand(Millions)')]"
      ]
     },
     "execution_count": 129,
     "metadata": {},
     "output_type": "execute_result"
    },
    {
     "data": {
      "image/png": "[encoded data removed]",
      "text/plain": [
       "<Figure size 1152x720 with 1 Axes>"
      ]
     },
     "metadata": {
      "needs_background": "light"
     },
     "output_type": "display_data"
    }
   ],
   "source": [
    "#Same thing as above I have used max values to show the total tourism products in BC for each Indicator category below\n",
    "\n",
    "plt.figure(figsize = (16,10))\n",
    "sns.barplot(x='Indicators',y='Value',hue='Year',data=df4, estimator=np.max, palette='Paired').set(title= 'Where British Columbias Tourists are Visiting from',ylabel='Total Demand(Millions)')"
   ]
  },
  {
   "cell_type": "markdown",
   "metadata": {},
   "source": [
    "# Conclusion: \n",
    "- Overall this tourism dataset gave me a lot of new information about different provinces growth rates, and where the tourists are travelling from (ex: Within BC, a neighbouring province, or another Country altogether). \n",
    "- I found that British Columbia has the highest growth in tourism demand of 25.5% from 2014-17, while Ontario only had growth of about 15% despite the fact that they have much larger tourism demand in general. \n",
    "- I also learned that Overall most of British Columbias tourists come about 35-40% from both within BC and Internationally, with only about 20-25% of tourist demand coming from other provinces. This was a surprise to me because I though tourism demand would be the highest from other Canadian provinces that are visiting.\n",
    "\n",
    "### Thank you for exploring my Tourism Dataset!"
   ]
  },
  {
   "cell_type": "code",
   "execution_count": null,
   "metadata": {},
   "outputs": [],
   "source": []
  }
 ],
 "metadata": {
  "kernelspec": {
   "display_name": "Python 3",
   "language": "python",
   "name": "python3"
  },
  "language_info": {
   "codemirror_mode": {
    "name": "ipython",
    "version": 3
   },
   "file_extension": ".py",
   "mimetype": "text/x-python",
   "name": "python",
   "nbconvert_exporter": "python",
   "pygments_lexer": "ipython3",
   "version": "3.9.5"
  }
 },
 "nbformat": 4,
 "nbformat_minor": 4
}
