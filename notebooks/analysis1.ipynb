{
 "cells": [
  {
   "cell_type": "markdown",
   "id": "a58f147a-8329-400b-9434-30a0bb46da0c",
   "metadata": {
    "tags": []
   },
   "source": [
    "# Emily Harvey"
   ]
  },
  {
   "cell_type": "markdown",
   "id": "c1682bf3-dd58-4c6b-963a-c1d55344f1a9",
   "metadata": {},
   "source": [
    "## Research question/interests\n",
    "\n",
    "Briefly describe your research question or interests here."
   ]
  }
 ],
 "metadata": {
  "kernelspec": {
   "display_name": "Python 3",
   "language": "python",
   "name": "python3"
  },
  "language_info": {
   "codemirror_mode": {
    "name": "ipython",
    "version": 3
   },
   "file_extension": ".py",
   "mimetype": "text/x-python",
   "name": "python",
   "nbconvert_exporter": "python",
   "pygments_lexer": "ipython3",
   "version": "3.9.5"
  }
 },
 "nbformat": 4,
 "nbformat_minor": 5
}
