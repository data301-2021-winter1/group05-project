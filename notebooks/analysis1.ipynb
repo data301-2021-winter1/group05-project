{
 "cells": [
  {
   "cell_type": "markdown",
   "id": "380d05e2-4192-4754-ac5f-1c11dede0167",
   "metadata": {},
   "source": [
    "# Emily Harvey"
   ]
  },
  {
   "cell_type": "code",
   "execution_count": 2,
   "id": "d784a0ec-7923-440a-aa60-6c26f93c9e81",
   "metadata": {},
   "outputs": [],
   "source": [
    "## Research question/interests\n",
    "\n",
    "Briefly describe your research question or interests here."
   ]
  }
 ],
 "metadata": {
  "kernelspec": {
   "display_name": "Python 3",
   "language": "python",
   "name": "python3"
  },
  "language_info": {
   "codemirror_mode": {
    "name": "ipython",
    "version": 3
   },
   "file_extension": ".py",
   "mimetype": "text/x-python",
   "name": "python",
   "nbconvert_exporter": "python",
   "pygments_lexer": "ipython3",
   "version": "3.9.5"
  }
 },
 "nbformat": 4,
 "nbformat_minor": 5
}
